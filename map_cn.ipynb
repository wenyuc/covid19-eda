{
 "cells": [
  {
   "cell_type": "markdown",
   "metadata": {},
   "source": [
    "https://blog.csdn.net/weixin_45606831/article/details/105129216"
   ]
  },
  {
   "cell_type": "code",
   "execution_count": 1,
   "metadata": {
    "scrolled": false
   },
   "outputs": [
    {
     "name": "stdout",
     "output_type": "stream",
     "text": [
      "Collecting pyecharts\n",
      "  Downloading pyecharts-1.8.0-py3-none-any.whl (131 kB)\n",
      "Collecting simplejson\n",
      "  Downloading simplejson-3.17.0-cp37-cp37m-win_amd64.whl (73 kB)\n",
      "Collecting prettytable\n",
      "  Downloading prettytable-0.7.2.tar.bz2 (21 kB)\n",
      "Requirement already satisfied: jinja2 in c:\\work2\\anaconda3\\lib\\site-packages (from pyecharts) (2.11.2)\n",
      "Requirement already satisfied: MarkupSafe>=0.23 in c:\\work2\\anaconda3\\lib\\site-packages (from jinja2->pyecharts) (1.1.1)\n",
      "Building wheels for collected packages: prettytable\n",
      "  Building wheel for prettytable (setup.py): started\n",
      "  Building wheel for prettytable (setup.py): finished with status 'done'\n",
      "  Created wheel for prettytable: filename=prettytable-0.7.2-py3-none-any.whl size=13704 sha256=db01e30a10fdc8338540970ef7b370b9ee9a4948f9f70f4dd049984a7cf97eb3\n",
      "  Stored in directory: c:\\users\\wenyuc\\appdata\\local\\pip\\cache\\wheels\\8c\\76\\0b\\eb9eb3da7e2335e3577e3f96a0ae9f74f206e26457bd1a2bc8\n",
      "Successfully built prettytable\n",
      "Installing collected packages: simplejson, prettytable, pyecharts\n",
      "Successfully installed prettytable-0.7.2 pyecharts-1.8.0 simplejson-3.17.0\n",
      "Collecting echarts-countries-pypkg\n",
      "  Downloading echarts-countries-pypkg-0.1.6.tar.gz (2.0 MB)\n",
      "Requirement already satisfied: lml>=0.0.2 in c:\\work2\\anaconda3\\lib\\site-packages (from echarts-countries-pypkg) (0.0.2)\n",
      "Requirement already satisfied: pyecharts-jupyter-installer==0.0.3 in c:\\work2\\anaconda3\\lib\\site-packages (from echarts-countries-pypkg) (0.0.3)\n",
      "Building wheels for collected packages: echarts-countries-pypkg\n",
      "  Building wheel for echarts-countries-pypkg (setup.py): started\n",
      "  Building wheel for echarts-countries-pypkg (setup.py): finished with status 'done'\n",
      "  Created wheel for echarts-countries-pypkg: filename=echarts_countries_pypkg-0.1.6-py3-none-any.whl size=2118072 sha256=1783a0bfadd506414e407546bcfb254fd4268bf770c6c94fd2ec2ed6d5ed8dc8\n",
      "  Stored in directory: c:\\users\\wenyuc\\appdata\\local\\pip\\cache\\wheels\\f2\\37\\b2\\d78ef6e8e5a04e385af103d9d39b117d72a0f42945124fc51a\n",
      "Successfully built echarts-countries-pypkg\n",
      "Installing collected packages: echarts-countries-pypkg\n",
      "Successfully installed echarts-countries-pypkg-0.1.6\n",
      "Collecting echarts-china-provinces-pypkg\n",
      "  Downloading echarts-china-provinces-pypkg-0.0.3.tar.gz (748 kB)\n",
      "Requirement already satisfied: lml>=0.0.2 in c:\\work2\\anaconda3\\lib\\site-packages (from echarts-china-provinces-pypkg) (0.0.2)\n",
      "Requirement already satisfied: pyecharts-jupyter-installer==0.0.3 in c:\\work2\\anaconda3\\lib\\site-packages (from echarts-china-provinces-pypkg) (0.0.3)\n",
      "Building wheels for collected packages: echarts-china-provinces-pypkg\n",
      "  Building wheel for echarts-china-provinces-pypkg (setup.py): started\n",
      "  Building wheel for echarts-china-provinces-pypkg (setup.py): finished with status 'done'\n",
      "  Created wheel for echarts-china-provinces-pypkg: filename=echarts_china_provinces_pypkg-0.0.3-py3-none-any.whl size=760431 sha256=07b9e8546ee0aa9fc728aac5f6275ecb8328f37c2946b979b0701f678608f32f\n",
      "  Stored in directory: c:\\users\\wenyuc\\appdata\\local\\pip\\cache\\wheels\\d3\\8b\\32\\5357848f88021ada7061d33ca1e0f2bc96bad2a3fe3a9a2754\n",
      "Successfully built echarts-china-provinces-pypkg\n",
      "Installing collected packages: echarts-china-provinces-pypkg\n",
      "Successfully installed echarts-china-provinces-pypkg-0.0.3\n",
      "Requirement already satisfied: echarts-china-cities-pypkg in c:\\work2\\anaconda3\\lib\\site-packages (0.0.9)\n",
      "Requirement already satisfied: lml>=0.0.2 in c:\\work2\\anaconda3\\lib\\site-packages (from echarts-china-cities-pypkg) (0.0.2)\n",
      "Requirement already satisfied: pyecharts-jupyter-installer==0.0.3 in c:\\work2\\anaconda3\\lib\\site-packages (from echarts-china-cities-pypkg) (0.0.3)\n",
      "Requirement already satisfied: echarts-china-counties-pypkg in c:\\work2\\anaconda3\\lib\\site-packages (0.0.2)\n",
      "Requirement already satisfied: pyecharts-jupyter-installer==0.0.3 in c:\\work2\\anaconda3\\lib\\site-packages (from echarts-china-counties-pypkg) (0.0.3)\n",
      "Requirement already satisfied: lml==0.0.2 in c:\\work2\\anaconda3\\lib\\site-packages (from echarts-china-counties-pypkg) (0.0.2)\n",
      "Requirement already satisfied: echarts-china-misc-pypkg in c:\\work2\\anaconda3\\lib\\site-packages (0.0.1)\n",
      "Requirement already satisfied: lml==0.0.2 in c:\\work2\\anaconda3\\lib\\site-packages (from echarts-china-misc-pypkg) (0.0.2)\n",
      "Requirement already satisfied: pyecharts-jupyter-installer==0.0.3 in c:\\work2\\anaconda3\\lib\\site-packages (from echarts-china-misc-pypkg) (0.0.3)\n"
     ]
    }
   ],
   "source": [
    "# ! pip install pyecharts\n",
    "# ! pip install echarts-countries-pypkg\n",
    "# ! pip install echarts-china-provinces-pypkg\n",
    "# ! pip install echarts-china-cities-pypkg\n",
    "# ! pip install echarts-china-counties-pypkg\n",
    "# ! pip install echarts-china-misc-pypkg"
   ]
  },
  {
   "cell_type": "code",
   "execution_count": 2,
   "metadata": {},
   "outputs": [],
   "source": [
    "import requests\n",
    "import json\n",
    "import re\n",
    "from pyecharts.charts import Map\n",
    "from pyecharts import options as opts\n"
   ]
  },
  {
   "cell_type": "markdown",
   "metadata": {},
   "source": [
    "### Get Data"
   ]
  },
  {
   "cell_type": "code",
   "execution_count": 4,
   "metadata": {},
   "outputs": [],
   "source": [
    "result = requests.get('https://interface.sina.cn/news/wap/fymap2020_data.d.json?1580097300739&&callback=sinajp_1580097300873005379567841634181')\n",
    "#使用正则表达式处理数据\n",
    "json_str = re.search(\"\\(+([^)]*)\\)+\", result.text).group(1)\n",
    "html = f\"{json_str}\"\n",
    "table = json.loads(f\"{html}\")"
   ]
  },
  {
   "cell_type": "code",
   "execution_count": 6,
   "metadata": {},
   "outputs": [
    {
     "name": "stderr",
     "output_type": "stream",
     "text": [
      "C:\\work2\\anaconda3\\lib\\site-packages\\pyecharts\\charts\\chart.py:14: PendingDeprecationWarning: pyecharts 各 Chart 将在 1.9.0 版本开始强制使用 ChartItem 进行数据项配置\n",
      "  super().__init__(init_opts=init_opts)\n",
      "C:\\work2\\anaconda3\\lib\\site-packages\\pyecharts\\charts\\chart.py:14: PendingDeprecationWarning: pyecharts 各 Chart 将在 1.9.0 版本开始强制使用 ChartItem 进行数据项配置\n",
      "  super().__init__(init_opts=init_opts)\n",
      "C:\\work2\\anaconda3\\lib\\site-packages\\pyecharts\\charts\\chart.py:14: PendingDeprecationWarning: pyecharts 各 Chart 将在 1.9.0 版本开始强制使用 ChartItem 进行数据项配置\n",
      "  super().__init__(init_opts=init_opts)\n",
      "C:\\work2\\anaconda3\\lib\\site-packages\\pyecharts\\charts\\chart.py:14: PendingDeprecationWarning: pyecharts 各 Chart 将在 1.9.0 版本开始强制使用 ChartItem 进行数据项配置\n",
      "  super().__init__(init_opts=init_opts)\n",
      "C:\\work2\\anaconda3\\lib\\site-packages\\pyecharts\\charts\\chart.py:14: PendingDeprecationWarning: pyecharts 各 Chart 将在 1.9.0 版本开始强制使用 ChartItem 进行数据项配置\n",
      "  super().__init__(init_opts=init_opts)\n",
      "C:\\work2\\anaconda3\\lib\\site-packages\\pyecharts\\charts\\chart.py:14: PendingDeprecationWarning: pyecharts 各 Chart 将在 1.9.0 版本开始强制使用 ChartItem 进行数据项配置\n",
      "  super().__init__(init_opts=init_opts)\n",
      "C:\\work2\\anaconda3\\lib\\site-packages\\pyecharts\\charts\\chart.py:14: PendingDeprecationWarning: pyecharts 各 Chart 将在 1.9.0 版本开始强制使用 ChartItem 进行数据项配置\n",
      "  super().__init__(init_opts=init_opts)\n",
      "C:\\work2\\anaconda3\\lib\\site-packages\\pyecharts\\charts\\chart.py:14: PendingDeprecationWarning: pyecharts 各 Chart 将在 1.9.0 版本开始强制使用 ChartItem 进行数据项配置\n",
      "  super().__init__(init_opts=init_opts)\n",
      "C:\\work2\\anaconda3\\lib\\site-packages\\pyecharts\\charts\\chart.py:14: PendingDeprecationWarning: pyecharts 各 Chart 将在 1.9.0 版本开始强制使用 ChartItem 进行数据项配置\n",
      "  super().__init__(init_opts=init_opts)\n",
      "C:\\work2\\anaconda3\\lib\\site-packages\\pyecharts\\charts\\chart.py:14: PendingDeprecationWarning: pyecharts 各 Chart 将在 1.9.0 版本开始强制使用 ChartItem 进行数据项配置\n",
      "  super().__init__(init_opts=init_opts)\n",
      "C:\\work2\\anaconda3\\lib\\site-packages\\pyecharts\\charts\\chart.py:14: PendingDeprecationWarning: pyecharts 各 Chart 将在 1.9.0 版本开始强制使用 ChartItem 进行数据项配置\n",
      "  super().__init__(init_opts=init_opts)\n",
      "C:\\work2\\anaconda3\\lib\\site-packages\\pyecharts\\charts\\chart.py:14: PendingDeprecationWarning: pyecharts 各 Chart 将在 1.9.0 版本开始强制使用 ChartItem 进行数据项配置\n",
      "  super().__init__(init_opts=init_opts)\n",
      "C:\\work2\\anaconda3\\lib\\site-packages\\pyecharts\\charts\\chart.py:14: PendingDeprecationWarning: pyecharts 各 Chart 将在 1.9.0 版本开始强制使用 ChartItem 进行数据项配置\n",
      "  super().__init__(init_opts=init_opts)\n",
      "C:\\work2\\anaconda3\\lib\\site-packages\\pyecharts\\charts\\chart.py:14: PendingDeprecationWarning: pyecharts 各 Chart 将在 1.9.0 版本开始强制使用 ChartItem 进行数据项配置\n",
      "  super().__init__(init_opts=init_opts)\n",
      "C:\\work2\\anaconda3\\lib\\site-packages\\pyecharts\\charts\\chart.py:14: PendingDeprecationWarning: pyecharts 各 Chart 将在 1.9.0 版本开始强制使用 ChartItem 进行数据项配置\n",
      "  super().__init__(init_opts=init_opts)\n",
      "C:\\work2\\anaconda3\\lib\\site-packages\\pyecharts\\charts\\chart.py:14: PendingDeprecationWarning: pyecharts 各 Chart 将在 1.9.0 版本开始强制使用 ChartItem 进行数据项配置\n",
      "  super().__init__(init_opts=init_opts)\n",
      "C:\\work2\\anaconda3\\lib\\site-packages\\pyecharts\\charts\\chart.py:14: PendingDeprecationWarning: pyecharts 各 Chart 将在 1.9.0 版本开始强制使用 ChartItem 进行数据项配置\n",
      "  super().__init__(init_opts=init_opts)\n",
      "C:\\work2\\anaconda3\\lib\\site-packages\\pyecharts\\charts\\chart.py:14: PendingDeprecationWarning: pyecharts 各 Chart 将在 1.9.0 版本开始强制使用 ChartItem 进行数据项配置\n",
      "  super().__init__(init_opts=init_opts)\n",
      "C:\\work2\\anaconda3\\lib\\site-packages\\pyecharts\\charts\\chart.py:14: PendingDeprecationWarning: pyecharts 各 Chart 将在 1.9.0 版本开始强制使用 ChartItem 进行数据项配置\n",
      "  super().__init__(init_opts=init_opts)\n",
      "C:\\work2\\anaconda3\\lib\\site-packages\\pyecharts\\charts\\chart.py:14: PendingDeprecationWarning: pyecharts 各 Chart 将在 1.9.0 版本开始强制使用 ChartItem 进行数据项配置\n",
      "  super().__init__(init_opts=init_opts)\n",
      "C:\\work2\\anaconda3\\lib\\site-packages\\pyecharts\\charts\\chart.py:14: PendingDeprecationWarning: pyecharts 各 Chart 将在 1.9.0 版本开始强制使用 ChartItem 进行数据项配置\n",
      "  super().__init__(init_opts=init_opts)\n",
      "C:\\work2\\anaconda3\\lib\\site-packages\\pyecharts\\charts\\chart.py:14: PendingDeprecationWarning: pyecharts 各 Chart 将在 1.9.0 版本开始强制使用 ChartItem 进行数据项配置\n",
      "  super().__init__(init_opts=init_opts)\n",
      "C:\\work2\\anaconda3\\lib\\site-packages\\pyecharts\\charts\\chart.py:14: PendingDeprecationWarning: pyecharts 各 Chart 将在 1.9.0 版本开始强制使用 ChartItem 进行数据项配置\n",
      "  super().__init__(init_opts=init_opts)\n",
      "C:\\work2\\anaconda3\\lib\\site-packages\\pyecharts\\charts\\chart.py:14: PendingDeprecationWarning: pyecharts 各 Chart 将在 1.9.0 版本开始强制使用 ChartItem 进行数据项配置\n",
      "  super().__init__(init_opts=init_opts)\n",
      "C:\\work2\\anaconda3\\lib\\site-packages\\pyecharts\\charts\\chart.py:14: PendingDeprecationWarning: pyecharts 各 Chart 将在 1.9.0 版本开始强制使用 ChartItem 进行数据项配置\n",
      "  super().__init__(init_opts=init_opts)\n",
      "C:\\work2\\anaconda3\\lib\\site-packages\\pyecharts\\charts\\chart.py:14: PendingDeprecationWarning: pyecharts 各 Chart 将在 1.9.0 版本开始强制使用 ChartItem 进行数据项配置\n",
      "  super().__init__(init_opts=init_opts)\n",
      "C:\\work2\\anaconda3\\lib\\site-packages\\pyecharts\\charts\\chart.py:14: PendingDeprecationWarning: pyecharts 各 Chart 将在 1.9.0 版本开始强制使用 ChartItem 进行数据项配置\n",
      "  super().__init__(init_opts=init_opts)\n"
     ]
    },
    {
     "ename": "IndexError",
     "evalue": "list index out of range",
     "output_type": "error",
     "traceback": [
      "\u001b[1;31m---------------------------------------------------------------------------\u001b[0m",
      "\u001b[1;31mIndexError\u001b[0m                                Traceback (most recent call last)",
      "\u001b[1;32m<ipython-input-6-1b0f7f02228f>\u001b[0m in \u001b[0;36m<module>\u001b[1;34m\u001b[0m\n\u001b[0;32m     24\u001b[0m                     {\"min\": 1, \"max\": 9, \"label\": '1-9人', \"color\": \"#FDEBD0\"}]))\n\u001b[0;32m     25\u001b[0m     \u001b[1;31m#将数据添加进去，生成省份地图，所以maptype要对应省份。\u001b[0m\u001b[1;33m\u001b[0m\u001b[1;33m\u001b[0m\u001b[1;33m\u001b[0m\u001b[0m\n\u001b[1;32m---> 26\u001b[1;33m     \u001b[0mmap_province\u001b[0m\u001b[1;33m.\u001b[0m\u001b[0madd\u001b[0m\u001b[1;33m(\u001b[0m\u001b[1;34m\"确诊\"\u001b[0m\u001b[1;33m,\u001b[0m \u001b[0mcity_data\u001b[0m\u001b[1;33m,\u001b[0m \u001b[0mmaptype\u001b[0m \u001b[1;33m=\u001b[0m \u001b[0mprovince\u001b[0m\u001b[1;33m[\u001b[0m\u001b[1;34m'name'\u001b[0m\u001b[1;33m]\u001b[0m\u001b[1;33m)\u001b[0m\u001b[1;33m\u001b[0m\u001b[1;33m\u001b[0m\u001b[0m\n\u001b[0m\u001b[0;32m     27\u001b[0m     \u001b[1;31m#一切完成，那么生成一个省份的html网页文件，取上对应省份的名字。\u001b[0m\u001b[1;33m\u001b[0m\u001b[1;33m\u001b[0m\u001b[1;33m\u001b[0m\u001b[0m\n\u001b[0;32m     28\u001b[0m     \u001b[0mmap_province\u001b[0m\u001b[1;33m.\u001b[0m\u001b[0mrender\u001b[0m\u001b[1;33m(\u001b[0m\u001b[0mprovince\u001b[0m\u001b[1;33m[\u001b[0m\u001b[1;34m'name'\u001b[0m\u001b[1;33m]\u001b[0m \u001b[1;33m+\u001b[0m \u001b[1;34m\"疫情地图.html\"\u001b[0m\u001b[1;33m)\u001b[0m\u001b[1;33m\u001b[0m\u001b[1;33m\u001b[0m\u001b[0m\n",
      "\u001b[1;32mC:\\work2\\anaconda3\\lib\\site-packages\\pyecharts\\charts\\basic_charts\\map.py\u001b[0m in \u001b[0;36madd\u001b[1;34m(self, series_name, data_pair, maptype, is_selected, is_roam, center, zoom, name_map, symbol, is_map_symbol_show, label_opts, tooltip_opts, itemstyle_opts, emphasis_label_opts, emphasis_itemstyle_opts)\u001b[0m\n\u001b[0;32m     33\u001b[0m         \u001b[0mself\u001b[0m\u001b[1;33m.\u001b[0m\u001b[0mjs_dependencies\u001b[0m\u001b[1;33m.\u001b[0m\u001b[0madd\u001b[0m\u001b[1;33m(\u001b[0m\u001b[0mmaptype\u001b[0m\u001b[1;33m)\u001b[0m\u001b[1;33m\u001b[0m\u001b[1;33m\u001b[0m\u001b[0m\n\u001b[0;32m     34\u001b[0m \u001b[1;33m\u001b[0m\u001b[0m\n\u001b[1;32m---> 35\u001b[1;33m         \u001b[1;32mif\u001b[0m \u001b[0misinstance\u001b[0m\u001b[1;33m(\u001b[0m\u001b[0mdata_pair\u001b[0m\u001b[1;33m[\u001b[0m\u001b[1;36m0\u001b[0m\u001b[1;33m]\u001b[0m\u001b[1;33m,\u001b[0m \u001b[0mopts\u001b[0m\u001b[1;33m.\u001b[0m\u001b[0mMapItem\u001b[0m\u001b[1;33m)\u001b[0m\u001b[1;33m:\u001b[0m\u001b[1;33m\u001b[0m\u001b[1;33m\u001b[0m\u001b[0m\n\u001b[0m\u001b[0;32m     36\u001b[0m             \u001b[0mdata\u001b[0m \u001b[1;33m=\u001b[0m \u001b[0mdata_pair\u001b[0m\u001b[1;33m\u001b[0m\u001b[1;33m\u001b[0m\u001b[0m\n\u001b[0;32m     37\u001b[0m         \u001b[1;32melse\u001b[0m\u001b[1;33m:\u001b[0m\u001b[1;33m\u001b[0m\u001b[1;33m\u001b[0m\u001b[0m\n",
      "\u001b[1;31mIndexError\u001b[0m: list index out of range"
     ]
    }
   ],
   "source": [
    "province_data = []\n",
    "\n",
    "#循环获取省份名称和对应的确诊数据\n",
    "for province in table['data']['list']:\n",
    "    #将省份数据添加到列表中去\n",
    "    province_data.append((province['name'], province['value']))\n",
    "\n",
    "    city_data = []\n",
    "    #循环获取城市名称和对应的确诊数据\n",
    "    for city in province['city']:\n",
    "        #这里要注意对应上地图的名字需要使用mapName这个字段\n",
    "        city_data.append((city['mapName'], city['conNum']))\n",
    "    #使用Map，创建省份地图    \n",
    "    map_province = Map()\n",
    "    #设置地图上的标题和数据标记，添加省份和确诊人数\n",
    "    map_province.set_global_opts(title_opts=opts.TitleOpts(title=province['name'] + \"实时疫情图-确诊人数：\" + province['value']),\n",
    "                                 visualmap_opts=opts.VisualMapOpts(is_piecewise=True, #设置是否为分段显示\n",
    "                #自定义数据范围和对应的颜色\n",
    "                pieces=[\n",
    "                    {\"min\": 1000, \"label\": '>1000人', \"color\": \"#6F171F\"}, \n",
    "                    {\"min\": 500, \"max\": 1000, \"label\": '500-1000人', \"color\": \"#C92C34\"},\n",
    "                    {\"min\": 100, \"max\": 499, \"label\": '100-499人', \"color\": \"#E35B52\"},\n",
    "                    {\"min\": 10, \"max\": 99, \"label\": '10-99人', \"color\": \"#F39E86\"},\n",
    "                    {\"min\": 1, \"max\": 9, \"label\": '1-9人', \"color\": \"#FDEBD0\"}]))\n",
    "    #将数据添加进去，生成省份地图，所以maptype要对应省份。\n",
    "    map_province.add(\"确诊\", city_data, maptype = province['name'])\n",
    "    #一切完成，那么生成一个省份的html网页文件，取上对应省份的名字。\n",
    "    map_province.render(province['name'] + \"疫情地图.html\")  \n",
    "\n",
    "#创建国家地图     \n",
    "map_country = Map()\n",
    "#设置地图上的标题和数据标记，添加确诊人数\n",
    "map_country.set_global_opts(title_opts=options.TitleOpts(title=\"中国实时疫情图-确诊人数：\" + table['data'][\"gntotal\"]), \n",
    "                            visualmap_opts=options.VisualMapOpts(is_piecewise=True,#设置是否为分段显示\n",
    "                #自定义数据范围和对应的颜色\n",
    "                pieces=[\n",
    "                    {\"min\": 1000, \"label\": '>1000人', \"color\": \"#6F171F\"}, # 不指定 max，表示 max 为无限大（Infinity）。\n",
    "                        {\"min\": 500, \"max\": 1000, \"label\": '500-1000人', \"color\": \"#C92C34\"},\n",
    "                    {\"min\": 100, \"max\": 499, \"label\": '100-499人', \"color\": \"#E35B52\"},\n",
    "                    {\"min\": 10, \"max\": 99, \"label\": '10-99人', \"color\": \"#F39E86\"},\n",
    "                    {\"min\": 1, \"max\": 9, \"label\": '1-9人', \"color\": \"#FDEBD0\"}]))\n",
    "#将数据添加进去，生成中国地图，所以maptype要对应china。\n",
    "map_country.add(\"确诊\", province_data, maptype=\"china\")\n",
    "#一切完成，那么生成一个html网页文件。\n",
    "map_country.render(\"中国疫情地图.html\")\n"
   ]
  },
  {
   "cell_type": "code",
   "execution_count": 7,
   "metadata": {},
   "outputs": [
    {
     "name": "stderr",
     "output_type": "stream",
     "text": [
      "C:\\work2\\anaconda3\\lib\\site-packages\\pyecharts\\charts\\chart.py:14: PendingDeprecationWarning: pyecharts 各 Chart 将在 1.9.0 版本开始强制使用 ChartItem 进行数据项配置\n",
      "  super().__init__(init_opts=init_opts)\n"
     ]
    },
    {
     "data": {
      "text/plain": [
       "'C:\\\\work2\\\\src\\\\covid19-eda\\\\map1.html'"
      ]
     },
     "execution_count": 7,
     "metadata": {},
     "output_type": "execute_result"
    }
   ],
   "source": [
    "province_list = [\"湖北\", \"浙江\", \"广东\", \"河南\", \"湖南\", \"江西\", \"安徽\", \"重庆\", \"山东\", \"四川\", \"江苏\", \"上海\", \"北京\", \"福建\", \"广西\", \"陕西\", \"河北\", \"云南\", \"黑龙江\",\"海南\", \"辽宁\", \"山西\", \"天津\", \"甘肃\", \"宁夏\", \"内蒙古\", \"新疆\", \"贵州\", \"吉林\", \"香港\", \"台湾\", \"青海\", \"澳门\", \"西藏\"]\n",
    "province_value = [5806, 537, 393, 352, 332, 240, 237, 206, 178, 177, 168, 128, 121, 101, 87, 87, 82, 76, 59, 50, 45, 39, 32, 29, 21, 20, 17, 15, 14, 12, 9, 8, 7, 1]\n",
    "province_info = [[province_list[i], province_value[i]] for i in range(len(province_list))]\n",
    "china_map = Map()\n",
    "china_map.set_global_opts(title_opts = opts.TitleOpts(title = \"2020/0131\"), visualmap_opts = opts.VisualMapOpts(max_ = 200))\n",
    "china_map.add(\"2020/01/31 data\", province_info, maptype = \"china\")\n",
    "china_map.render(\"map1.html\")"
   ]
  },
  {
   "cell_type": "code",
   "execution_count": null,
   "metadata": {},
   "outputs": [],
   "source": []
  }
 ],
 "metadata": {
  "kernelspec": {
   "display_name": "Python 3",
   "language": "python",
   "name": "python3"
  },
  "language_info": {
   "codemirror_mode": {
    "name": "ipython",
    "version": 3
   },
   "file_extension": ".py",
   "mimetype": "text/x-python",
   "name": "python",
   "nbconvert_exporter": "python",
   "pygments_lexer": "ipython3",
   "version": "3.7.7"
  }
 },
 "nbformat": 4,
 "nbformat_minor": 4
}
